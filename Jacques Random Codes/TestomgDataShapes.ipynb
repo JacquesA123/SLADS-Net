{
 "cells": [
  {
   "cell_type": "markdown",
   "id": "5a37ef57",
   "metadata": {},
   "source": [
    "# Testing Data Shapes"
   ]
  },
  {
   "cell_type": "markdown",
   "id": "f76a2e6e",
   "metadata": {},
   "source": [
    "## Test shape of image with classifications"
   ]
  },
  {
   "cell_type": "code",
   "execution_count": null,
   "id": "0b6ec4f1",
   "metadata": {},
   "outputs": [
    {
     "name": "stdout",
     "output_type": "stream",
     "text": [
      "1.0\n",
      "-65524.0\n",
      "6\n",
      "1.0\n",
      "-65526.0\n",
      "5\n"
     ]
    }
   ],
   "source": [
    "import numpy as np\n",
    "\n",
    "array = np.load(r\"C:\\Users\\labuser\\Downloads\\PyPhenom (2.1)\\PyPhenom\\Jacques_Argonne_Internship\\Phenom Repositories\\SLADS-Net_V3\\SLADS-Net\\Jacques Random\\Run_2025-08-19_14-22-56.npy\")\n",
    "print(array[1][127])\n",
    "# print(np.sum(array))\n",
    "# Print the number of ones in the array\n",
    "print(np.sum(array == 1))\n",
    "\n",
    "array_prev = np.load(r\"C:\\Users\\labuser\\Downloads\\PyPhenom (2.1)\\PyPhenom\\Jacques_Argonne_Internship\\Phenom Repositories\\SLADS-Net_V3\\SLADS-Net\\Jacques Random\\Run_2025-08-19_14-22-55.npy\")\n",
    "print(array_prev[1][127])\n",
    "# print(np.sum(array_prev))\n",
    "# Print the number of ones in the array\n",
    "print(np.sum(array_prev == 1))"
   ]
  },
  {
   "cell_type": "code",
   "execution_count": null,
   "id": "d33e1bcc",
   "metadata": {},
   "outputs": [],
   "source": []
  }
 ],
 "metadata": {
  "kernelspec": {
   "display_name": "SLADS-Net_V3",
   "language": "python",
   "name": "python3"
  },
  "language_info": {
   "codemirror_mode": {
    "name": "ipython",
    "version": 3
   },
   "file_extension": ".py",
   "mimetype": "text/x-python",
   "name": "python",
   "nbconvert_exporter": "python",
   "pygments_lexer": "ipython3",
   "version": "3.11.0"
  }
 },
 "nbformat": 4,
 "nbformat_minor": 5
}
