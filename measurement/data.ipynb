{
 "cells": [
  {
   "cell_type": "markdown",
   "id": "ef88fd9d",
   "metadata": {},
   "source": [
    "# Imports"
   ]
  },
  {
   "cell_type": "code",
   "execution_count": 1,
   "id": "8c925b1a",
   "metadata": {},
   "outputs": [],
   "source": [
    "import numpy as np\n",
    "import os\n",
    "from matplotlib import pyplot as plt\n",
    "import glob\n",
    "from model import CNN_Classifier_Lightning\n",
    "import pytorch_lightning as pl\n",
    "import torch\n",
    "from torch.utils.data import TensorDataset, DataLoader\n"
   ]
  },
  {
   "cell_type": "markdown",
   "id": "83283080",
   "metadata": {},
   "source": [
    "# Scratchwork"
   ]
  },
  {
   "cell_type": "markdown",
   "id": "a312cc9f",
   "metadata": {},
   "source": [
    "This is a scratchwork file for testing out data extraction on .emsa sprectra data files."
   ]
  },
  {
   "cell_type": "code",
   "execution_count": null,
   "id": "9dbf5ebb",
   "metadata": {},
   "outputs": [],
   "source": [
    "def read_emsa_spectrum(filepath: str, header_lines: int = 31) -> np.ndarray:\n",
    "    \"\"\"\n",
    "    Reads a .emsa file and extracts the numerical data spectrum.\n",
    "\n",
    "    Args:\n",
    "        filepath (str): The full path to the .emsa file.\n",
    "        header_lines (int): The number of header lines to skip.\n",
    "\n",
    "    Returns:\n",
    "        np.ndarray: A 1D NumPy array containing the spectrum data.\n",
    "    \"\"\"\n",
    "    try:\n",
    "        spectrum = np.loadtxt(filepath, skiprows=header_lines)\n",
    "        return spectrum\n",
    "    except FileNotFoundError:\n",
    "        print(f\"Error: The file '{filepath}' was not found.\")\n",
    "        return np.array([]) # Return an empty array on error\n",
    "    except ValueError:\n",
    "        print(f\"Error: Could not convert data to numbers after the header.\")\n",
    "        print(\"Please check the file to ensure all lines after the header are numeric.\")\n",
    "        return np.array([])\n",
    "    except Exception as e:\n",
    "        print(f\"An unexpected error occurred: {e}\")\n",
    "        return np.array([])\n",
    "    \n",
    "def spectrums_from_directory(directory):\n",
    "    emsa_files = sorted(glob.glob(os.path.join(directory, '*.emsa')))\n",
    "    if emsa_files:\n",
    "        list_of_spectra = [read_emsa_spectrum(f) for f in emsa_files]\n",
    "        spectra_array = np.array([s for s in list_of_spectra if s.size > 0])\n",
    "        \n",
    "        if spectra_array.size == 0:\n",
    "            print(\"Could not read any valid spectra from the files found.\")\n",
    "        \n",
    "        return spectra_array\n",
    "    else:\n",
    "        print(f\"No .emsa files found in the directory: {directory}\")\n"
   ]
  },
  {
   "cell_type": "code",
   "execution_count": null,
   "id": "1762d6e6",
   "metadata": {},
   "outputs": [],
   "source": [
    "sp = read_emsa_spectrum(r\"D:\\ANL Data Storage\\Phenom Data\\PbSn_60\\Compiled Spectra\\Pb\\spectrum.emsa\")\n",
    "print(sp.shape)\n",
    "print(sp)\n",
    "plt.plot(sp)"
   ]
  },
  {
   "cell_type": "code",
   "execution_count": null,
   "id": "c14fb854",
   "metadata": {},
   "outputs": [],
   "source": [
    "sps = spectrums_from_directory(r\"D:\\ANL Data Storage\\Phenom Data\\PbSn_60\\Compiled Spectra\\Pb\")\n",
    "sps.shape"
   ]
  },
  {
   "cell_type": "code",
   "execution_count": null,
   "id": "850169a2",
   "metadata": {},
   "outputs": [],
   "source": [
    "random_indices = np.random.randint(0, 19, size=(4, 256, 256))\n",
    "spectral_volume = sps[random_indices]\n",
    "spectral_volume.shape"
   ]
  },
  {
   "cell_type": "code",
   "execution_count": 2,
   "id": "da7e335b",
   "metadata": {},
   "outputs": [
    {
     "name": "stdout",
     "output_type": "stream",
     "text": [
      "Scanning directory: D:\\ANL Data Storage\\Phenom Data\\PbSn_60\\Compiled Images\\Two-tone\\Training\n",
      "Looking for files with extensions: ('.jpg', '.jpeg', '.png')\n",
      "All images will be resized to: (256, 256)\n",
      "\n",
      "Successfully compiled 2 images.\n",
      "Masking over data for class 0...\n",
      "Masking over data for class 1...\n",
      "Scanning directory: D:\\ANL Data Storage\\Phenom Data\\PbSn_60\\Compiled Images\\Two-tone\\Validation\n",
      "Looking for files with extensions: ('.jpg', '.jpeg', '.png')\n",
      "All images will be resized to: (256, 256)\n",
      "\n",
      "Successfully compiled 2 images.\n",
      "Masking over data for class 0...\n",
      "Masking over data for class 1...\n"
     ]
    }
   ],
   "source": [
    "from data import generate_training_data\n",
    "\n",
    "training_HSI, training_classes = generate_training_data(\n",
    "    image_directory = r\"D:\\ANL Data Storage\\Phenom Data\\PbSn_60\\Compiled Images\\Two-tone\\Training\",\n",
    "    target_size = (256, 256),\n",
    "    spectrum_directories = [\n",
    "        r\"D:\\ANL Data Storage\\Phenom Data\\PbSn_60\\Compiled Spectra\\Sn\",\n",
    "        r\"D:\\ANL Data Storage\\Phenom Data\\PbSn_60\\Compiled Spectra\\Pb\"\n",
    "    ],\n",
    "    spectrum_range = (0, 9)\n",
    ")\n",
    "\n",
    "val_HSI, val_classes = generate_training_data(\n",
    "    image_directory = r\"D:\\ANL Data Storage\\Phenom Data\\PbSn_60\\Compiled Images\\Two-tone\\Validation\",\n",
    "    target_size = (256, 256),\n",
    "    spectrum_directories = [\n",
    "        r\"D:\\ANL Data Storage\\Phenom Data\\PbSn_60\\Compiled Spectra\\Sn\",\n",
    "        r\"D:\\ANL Data Storage\\Phenom Data\\PbSn_60\\Compiled Spectra\\Pb\"\n",
    "    ],\n",
    "    spectrum_range = (10, 19)\n",
    ")"
   ]
  },
  {
   "cell_type": "code",
   "execution_count": 3,
   "id": "3813e86a",
   "metadata": {},
   "outputs": [],
   "source": [
    "np.save(r\"data\\training_HSI\", training_HSI)\n",
    "np.save(r\"data\\training_classes\", training_classes)\n",
    "np.save(r\"data\\validation_HSI\", val_HSI)\n",
    "np.save(r\"data\\validation_classes\", val_classes)"
   ]
  },
  {
   "cell_type": "markdown",
   "id": "050ba123",
   "metadata": {},
   "source": [
    "# Train CNN"
   ]
  },
  {
   "cell_type": "code",
   "execution_count": 17,
   "id": "2e2f32ad",
   "metadata": {},
   "outputs": [],
   "source": [
    "training_HSI = np.load(\"data\\\\training_HSI.npy\")\n",
    "training_classes = np.load(\"data\\\\training_classes.npy\")\n",
    "val_HSI = np.load(r\"data\\validation_HSI.npy\")\n",
    "val_classes = np.load(r\"data\\validation_classes.npy\")"
   ]
  },
  {
   "cell_type": "code",
   "execution_count": 18,
   "id": "99acf494",
   "metadata": {},
   "outputs": [],
   "source": [
    "HSI_training_tensor = torch.Tensor(training_HSI.reshape((-1, 1, training_HSI.shape[-1])))\n",
    "classes_training_tensor = torch.Tensor(training_classes.reshape((-1, 1)))\n",
    "\n",
    "HSI_val_tensor = torch.Tensor(val_HSI.reshape((-1, 1, val_HSI.shape[-1])))\n",
    "classes_val_tensor = torch.Tensor(val_classes.reshape((-1, 1)))"
   ]
  },
  {
   "cell_type": "code",
   "execution_count": 19,
   "id": "362f7b1b",
   "metadata": {},
   "outputs": [
    {
     "name": "stderr",
     "output_type": "stream",
     "text": [
      "💡 Tip: For seamless cloud uploads and versioning, try installing [litmodels](https://pypi.org/project/litmodels/) to enable LitModelCheckpoint, which syncs automatically with the Lightning model registry.\n"
     ]
    },
    {
     "name": "stderr",
     "output_type": "stream",
     "text": [
      "GPU available: True (cuda), used: True\n",
      "TPU available: False, using: 0 TPU cores\n",
      "HPU available: False, using: 0 HPUs\n",
      "LOCAL_RANK: 0 - CUDA_VISIBLE_DEVICES: [0]\n",
      "\n",
      "  | Name  | Type           | Params | Mode \n",
      "-------------------------------------------------\n",
      "0 | model | CNN_Classifier | 4.0 K  | train\n",
      "-------------------------------------------------\n",
      "4.0 K     Trainable params\n",
      "0         Non-trainable params\n",
      "4.0 K     Total params\n",
      "0.016     Total estimated model params size (MB)\n",
      "12        Modules in train mode\n",
      "0         Modules in eval mode\n"
     ]
    },
    {
     "name": "stdout",
     "output_type": "stream",
     "text": [
      "Sanity Checking DataLoader 0:  50%|█████     | 1/2 [00:00<00:00, 29.69it/s]"
     ]
    },
    {
     "name": "stderr",
     "output_type": "stream",
     "text": [
      "c:\\Users\\nolan\\OneDrive\\Desktop\\College\\Research\\ANL\\SLADS\\SLADS-Net\\Lib\\site-packages\\pytorch_lightning\\trainer\\connectors\\data_connector.py:425: The 'val_dataloader' does not have many workers which may be a bottleneck. Consider increasing the value of the `num_workers` argument` to `num_workers=31` in the `DataLoader` to improve performance.\n"
     ]
    },
    {
     "name": "stdout",
     "output_type": "stream",
     "text": [
      "                                                                           "
     ]
    },
    {
     "name": "stderr",
     "output_type": "stream",
     "text": [
      "c:\\Users\\nolan\\OneDrive\\Desktop\\College\\Research\\ANL\\SLADS\\SLADS-Net\\Lib\\site-packages\\pytorch_lightning\\trainer\\connectors\\data_connector.py:425: The 'train_dataloader' does not have many workers which may be a bottleneck. Consider increasing the value of the `num_workers` argument` to `num_workers=31` in the `DataLoader` to improve performance.\n",
      "c:\\Users\\nolan\\OneDrive\\Desktop\\College\\Research\\ANL\\SLADS\\SLADS-Net\\Lib\\site-packages\\pytorch_lightning\\loops\\fit_loop.py:310: The number of training batches (16) is smaller than the logging interval Trainer(log_every_n_steps=50). Set a lower value for log_every_n_steps if you want to see logs for the training epoch.\n"
     ]
    },
    {
     "name": "stdout",
     "output_type": "stream",
     "text": [
      "Epoch 9: 100%|██████████| 16/16 [00:02<00:00,  5.55it/s, v_num=22, train_loss=0.00555, val_loss=0.00588]"
     ]
    },
    {
     "name": "stderr",
     "output_type": "stream",
     "text": [
      "`Trainer.fit` stopped: `max_epochs=10` reached.\n"
     ]
    },
    {
     "name": "stdout",
     "output_type": "stream",
     "text": [
      "Epoch 9: 100%|██████████| 16/16 [00:02<00:00,  5.53it/s, v_num=22, train_loss=0.00555, val_loss=0.00588]\n"
     ]
    }
   ],
   "source": [
    "model = CNN_Classifier_Lightning(input_shape=(HSI.shape[-1],), num_classes=2)\n",
    "\n",
    "trainer = pl.Trainer(\n",
    "    accelerator = \"auto\",\n",
    "    #precision   = '16-mixed',\n",
    "    devices     = 1,\n",
    "    max_epochs  = 10,\n",
    "    #gradient_clip_val=0.5,\n",
    "    logger      = pl.loggers.TensorBoardLogger(\"lightning_logs/\", name=\"CNN\")\n",
    ")\n",
    "\n",
    "training_dataset = TensorDataset(HSI_training_tensor, classes_training_tensor)\n",
    "val_dataset = TensorDataset(HSI_val_tensor, classes_val_tensor)\n",
    "\n",
    "train_loader = DataLoader(training_dataset, batch_size=8192)\n",
    "val_loader   = DataLoader(val_dataset, batch_size=8192)\n",
    "\n",
    "trainer.fit(model, train_dataloaders=train_loader, val_dataloaders=val_loader)"
   ]
  },
  {
   "cell_type": "code",
   "execution_count": 26,
   "id": "45c26b5e",
   "metadata": {},
   "outputs": [],
   "source": [
    "classification = torch.softmax(\n",
    "                    model(torch.tensor(val_HSI[1]).float().reshape(-1, 1, 2048))\n",
    "                        .reshape(256,256,2), 2).detach().numpy()"
   ]
  },
  {
   "cell_type": "code",
   "execution_count": 27,
   "id": "1dde5549",
   "metadata": {},
   "outputs": [
    {
     "data": {
      "image/png": "[encoded data removed]",
      "text/plain": [
       "<Figure size 640x480 with 2 Axes>"
      ]
     },
     "metadata": {},
     "output_type": "display_data"
    }
   ],
   "source": [
    "plt.imshow(np.argmax(classification[:,:], axis=2))\n",
    "plt.colorbar()\n",
    "plt.show()"
   ]
  },
  {
   "cell_type": "code",
   "execution_count": 29,
   "id": "e27be2eb",
   "metadata": {},
   "outputs": [],
   "source": [
    "torch.save(model.model.state_dict(), \"pretrained_models\\\\CNN.pt\")"
   ]
  }
 ],
 "metadata": {
  "kernelspec": {
   "display_name": "SLADS-Net",
   "language": "python",
   "name": "python3"
  },
  "language_info": {
   "codemirror_mode": {
    "name": "ipython",
    "version": 3
   },
   "file_extension": ".py",
   "mimetype": "text/x-python",
   "name": "python",
   "nbconvert_exporter": "python",
   "pygments_lexer": "ipython3",
   "version": "3.12.6"
  }
 },
 "nbformat": 4,
 "nbformat_minor": 5
}
